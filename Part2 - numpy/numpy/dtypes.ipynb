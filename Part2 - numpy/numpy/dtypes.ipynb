{
 "cells": [
  {
   "cell_type": "code",
   "execution_count": 1,
   "id": "49f402d2",
   "metadata": {},
   "outputs": [],
   "source": [
    "import numpy as np"
   ]
  },
  {
   "cell_type": "code",
   "execution_count": 4,
   "id": "5acffb16",
   "metadata": {},
   "outputs": [
    {
     "data": {
      "text/plain": [
       "array([0, 0, 0, 0, 0, 0, 0, 0, 0, 0], dtype=int64)"
      ]
     },
     "execution_count": 4,
     "metadata": {},
     "output_type": "execute_result"
    }
   ],
   "source": [
    "np.zeros(10,dtype='int64')"
   ]
  },
  {
   "cell_type": "code",
   "execution_count": null,
   "id": "de595a58",
   "metadata": {},
   "outputs": [
    {
     "data": {
      "text/plain": [
       "array([[[0, 2, 2, 1, 0],\n",
       "        [5, 0, 8, 1, 6],\n",
       "        [9, 8, 8, 9, 1],\n",
       "        [6, 4, 2, 8, 5],\n",
       "        [2, 3, 3, 4, 6]],\n",
       "\n",
       "       [[6, 2, 5, 9, 2],\n",
       "        [0, 3, 9, 1, 0],\n",
       "        [9, 3, 9, 9, 1],\n",
       "        [4, 2, 7, 6, 2],\n",
       "        [3, 8, 9, 0, 8]],\n",
       "\n",
       "       [[6, 2, 4, 7, 7],\n",
       "        [5, 8, 2, 0, 5],\n",
       "        [2, 5, 7, 5, 4],\n",
       "        [6, 9, 4, 7, 9],\n",
       "        [0, 0, 0, 3, 9]],\n",
       "\n",
       "       [[0, 2, 7, 8, 4],\n",
       "        [4, 2, 3, 0, 9],\n",
       "        [3, 8, 8, 9, 0],\n",
       "        [9, 5, 8, 5, 1],\n",
       "        [9, 4, 1, 3, 5]],\n",
       "\n",
       "       [[2, 8, 4, 0, 3],\n",
       "        [0, 4, 5, 9, 7],\n",
       "        [6, 7, 2, 4, 6],\n",
       "        [3, 4, 0, 3, 4],\n",
       "        [5, 3, 0, 5, 7]]], dtype=int64)"
      ]
     },
     "execution_count": 12,
     "metadata": {},
     "output_type": "execute_result"
    }
   ],
   "source": [
    "arr=np.random.default_rng(seed=1200)\n",
    "x1=arr.integers(10,size=6)\n",
    "x2=arr.integers(10,size=(3,5))\n",
    "x3=arr.integers(10,size=(5,5,5))\n",
    "x3"
   ]
  },
  {
   "cell_type": "code",
   "execution_count": 18,
   "id": "7225008c",
   "metadata": {},
   "outputs": [
    {
     "data": {
      "text/plain": [
       "125"
      ]
     },
     "execution_count": 18,
     "metadata": {},
     "output_type": "execute_result"
    }
   ],
   "source": [
    "x3.ndim\n",
    "x3.shape\n",
    "x3.size\n",
    "# x3.dtype"
   ]
  },
  {
   "cell_type": "code",
   "execution_count": 23,
   "id": "32a40fcc",
   "metadata": {},
   "outputs": [
    {
     "data": {
      "text/plain": [
       "array([7, 5, 4, 0, 5, 6], dtype=int64)"
      ]
     },
     "execution_count": 23,
     "metadata": {},
     "output_type": "execute_result"
    }
   ],
   "source": [
    "x1"
   ]
  },
  {
   "cell_type": "code",
   "execution_count": 20,
   "id": "319412b2",
   "metadata": {},
   "outputs": [
    {
     "data": {
      "text/plain": [
       "7"
      ]
     },
     "execution_count": 20,
     "metadata": {},
     "output_type": "execute_result"
    }
   ],
   "source": [
    "x1[0]"
   ]
  },
  {
   "cell_type": "code",
   "execution_count": 22,
   "id": "2a746730",
   "metadata": {},
   "outputs": [
    {
     "data": {
      "text/plain": [
       "6"
      ]
     },
     "execution_count": 22,
     "metadata": {},
     "output_type": "execute_result"
    }
   ],
   "source": [
    "x1[-1]"
   ]
  },
  {
   "cell_type": "code",
   "execution_count": 25,
   "id": "1bd6b5c2",
   "metadata": {},
   "outputs": [
    {
     "data": {
      "text/plain": [
       "array([5, 1, 9, 3, 9], dtype=int64)"
      ]
     },
     "execution_count": 25,
     "metadata": {},
     "output_type": "execute_result"
    }
   ],
   "source": [
    "x2[0]"
   ]
  },
  {
   "cell_type": "code",
   "execution_count": 27,
   "id": "372defe8",
   "metadata": {},
   "outputs": [
    {
     "data": {
      "text/plain": [
       "9"
      ]
     },
     "execution_count": 27,
     "metadata": {},
     "output_type": "execute_result"
    }
   ],
   "source": [
    "x2[0][2]"
   ]
  },
  {
   "cell_type": "code",
   "execution_count": 29,
   "id": "de96bb0b",
   "metadata": {},
   "outputs": [
    {
     "data": {
      "text/plain": [
       "6"
      ]
     },
     "execution_count": 29,
     "metadata": {},
     "output_type": "execute_result"
    }
   ],
   "source": [
    "x2[-2][-1]"
   ]
  },
  {
   "cell_type": "code",
   "execution_count": 34,
   "id": "4741ea1c",
   "metadata": {},
   "outputs": [
    {
     "data": {
      "text/plain": [
       "9"
      ]
     },
     "execution_count": 34,
     "metadata": {},
     "output_type": "execute_result"
    }
   ],
   "source": [
    "x2[-1,-2]"
   ]
  },
  {
   "cell_type": "code",
   "execution_count": 37,
   "id": "2c7ccda1",
   "metadata": {},
   "outputs": [
    {
     "ename": "ValueError",
     "evalue": "invalid literal for int() with base 10: 'a'",
     "output_type": "error",
     "traceback": [
      "\u001b[1;31m---------------------------------------------------------------------------\u001b[0m",
      "\u001b[1;31mValueError\u001b[0m                                Traceback (most recent call last)",
      "Cell \u001b[1;32mIn[37], line 1\u001b[0m\n\u001b[1;32m----> 1\u001b[0m \u001b[43mx2\u001b[49m\u001b[43m[\u001b[49m\u001b[38;5;241;43m0\u001b[39;49m\u001b[43m,\u001b[49m\u001b[38;5;241;43m0\u001b[39;49m\u001b[43m]\u001b[49m\u001b[38;5;241m=\u001b[39m\u001b[38;5;124m'\u001b[39m\u001b[38;5;124ma\u001b[39m\u001b[38;5;124m'\u001b[39m\n\u001b[0;32m      2\u001b[0m x2\n",
      "\u001b[1;31mValueError\u001b[0m: invalid literal for int() with base 10: 'a'"
     ]
    }
   ],
   "source": [
    "x2[0,0]='a'\n",
    "x2"
   ]
  },
  {
   "cell_type": "code",
   "execution_count": 39,
   "id": "c18dad2c",
   "metadata": {},
   "outputs": [
    {
     "data": {
      "text/plain": [
       "array([[5, 1, 9, 3, 9],\n",
       "       [3, 1, 3, 7, 6],\n",
       "       [6, 7, 3, 9, 0]], dtype=int64)"
      ]
     },
     "execution_count": 39,
     "metadata": {},
     "output_type": "execute_result"
    }
   ],
   "source": [
    "x2[0,0]='5'\n",
    "x2"
   ]
  },
  {
   "cell_type": "code",
   "execution_count": 95,
   "id": "443448e7",
   "metadata": {},
   "outputs": [
    {
     "data": {
      "text/plain": [
       "array([[5, 1, 9, 3, 9],\n",
       "       [3, 3, 3, 7, 6],\n",
       "       [3, 3, 3, 9, 0]], dtype=int64)"
      ]
     },
     "execution_count": 95,
     "metadata": {},
     "output_type": "execute_result"
    }
   ],
   "source": [
    "x2[2,0]=3.14\n",
    "x2"
   ]
  },
  {
   "cell_type": "code",
   "execution_count": null,
   "id": "5c8dbb7c",
   "metadata": {},
   "outputs": [],
   "source": []
  },
  {
   "cell_type": "code",
   "execution_count": 59,
   "id": "02a4271d",
   "metadata": {},
   "outputs": [
    {
     "data": {
      "text/plain": [
       "array([7, 5, 4, 0, 5, 6], dtype=int64)"
      ]
     },
     "execution_count": 59,
     "metadata": {},
     "output_type": "execute_result"
    }
   ],
   "source": [
    "x1"
   ]
  },
  {
   "cell_type": "code",
   "execution_count": 61,
   "id": "78e25701",
   "metadata": {},
   "outputs": [
    {
     "data": {
      "text/plain": [
       "array([7, 5, 4, 0, 5, 6], dtype=int64)"
      ]
     },
     "execution_count": 61,
     "metadata": {},
     "output_type": "execute_result"
    }
   ],
   "source": [
    "x1[:]"
   ]
  },
  {
   "cell_type": "code",
   "execution_count": 63,
   "id": "3726086a",
   "metadata": {},
   "outputs": [
    {
     "data": {
      "text/plain": [
       "array([6], dtype=int64)"
      ]
     },
     "execution_count": 63,
     "metadata": {},
     "output_type": "execute_result"
    }
   ],
   "source": [
    "x1[-1:]"
   ]
  },
  {
   "cell_type": "code",
   "execution_count": 65,
   "id": "57cfa765",
   "metadata": {},
   "outputs": [
    {
     "data": {
      "text/plain": [
       "array([7, 5], dtype=int64)"
      ]
     },
     "execution_count": 65,
     "metadata": {},
     "output_type": "execute_result"
    }
   ],
   "source": [
    "x1[:2]"
   ]
  },
  {
   "cell_type": "code",
   "execution_count": 67,
   "id": "9db7dd9e",
   "metadata": {},
   "outputs": [
    {
     "data": {
      "text/plain": [
       "array([7, 5, 4, 0, 5], dtype=int64)"
      ]
     },
     "execution_count": 67,
     "metadata": {},
     "output_type": "execute_result"
    }
   ],
   "source": [
    "x1[:5]"
   ]
  },
  {
   "cell_type": "code",
   "execution_count": 69,
   "id": "70ce3302",
   "metadata": {},
   "outputs": [
    {
     "data": {
      "text/plain": [
       "array([7, 4, 5], dtype=int64)"
      ]
     },
     "execution_count": 69,
     "metadata": {},
     "output_type": "execute_result"
    }
   ],
   "source": [
    "x1[::2]"
   ]
  },
  {
   "cell_type": "code",
   "execution_count": 71,
   "id": "4d233ee9",
   "metadata": {},
   "outputs": [
    {
     "data": {
      "text/plain": [
       "array([5, 0, 6], dtype=int64)"
      ]
     },
     "execution_count": 71,
     "metadata": {},
     "output_type": "execute_result"
    }
   ],
   "source": [
    "x1[1::2]"
   ]
  },
  {
   "cell_type": "code",
   "execution_count": 73,
   "id": "1ca50c69",
   "metadata": {},
   "outputs": [
    {
     "data": {
      "text/plain": [
       "array([6, 5, 0, 4, 5, 7], dtype=int64)"
      ]
     },
     "execution_count": 73,
     "metadata": {},
     "output_type": "execute_result"
    }
   ],
   "source": [
    "x1[::-1]"
   ]
  },
  {
   "cell_type": "code",
   "execution_count": null,
   "id": "1367dc29",
   "metadata": {},
   "outputs": [],
   "source": []
  },
  {
   "cell_type": "code",
   "execution_count": 75,
   "id": "d18e64d5",
   "metadata": {},
   "outputs": [
    {
     "data": {
      "text/plain": [
       "array([[5, 1, 9, 3, 9],\n",
       "       [3, 3, 3, 7, 6],\n",
       "       [3, 3, 3, 9, 0]], dtype=int64)"
      ]
     },
     "execution_count": 75,
     "metadata": {},
     "output_type": "execute_result"
    }
   ],
   "source": [
    "x2"
   ]
  },
  {
   "cell_type": "code",
   "execution_count": 77,
   "id": "5559bc06",
   "metadata": {},
   "outputs": [
    {
     "data": {
      "text/plain": [
       "array([[3, 3, 7],\n",
       "       [3, 3, 9]], dtype=int64)"
      ]
     },
     "execution_count": 77,
     "metadata": {},
     "output_type": "execute_result"
    }
   ],
   "source": [
    "x2[1:4,1:4]"
   ]
  },
  {
   "cell_type": "code",
   "execution_count": 79,
   "id": "1668c7d0",
   "metadata": {},
   "outputs": [
    {
     "data": {
      "text/plain": [
       "array([[0, 9, 3, 3, 3],\n",
       "       [6, 7, 3, 3, 3],\n",
       "       [9, 3, 9, 1, 5]], dtype=int64)"
      ]
     },
     "execution_count": 79,
     "metadata": {},
     "output_type": "execute_result"
    }
   ],
   "source": [
    "x2[::-1,::-1]"
   ]
  },
  {
   "cell_type": "code",
   "execution_count": null,
   "id": "a9f40483",
   "metadata": {},
   "outputs": [],
   "source": []
  },
  {
   "cell_type": "code",
   "execution_count": 81,
   "id": "2734dd31",
   "metadata": {},
   "outputs": [
    {
     "data": {
      "text/plain": [
       "array([7, 5, 4, 0, 5, 6], dtype=int64)"
      ]
     },
     "execution_count": 81,
     "metadata": {},
     "output_type": "execute_result"
    }
   ],
   "source": [
    "x1"
   ]
  },
  {
   "cell_type": "code",
   "execution_count": 83,
   "id": "1dd5ad89",
   "metadata": {},
   "outputs": [],
   "source": [
    "x11=x1[::-1]"
   ]
  },
  {
   "cell_type": "code",
   "execution_count": 85,
   "id": "83f8b6af",
   "metadata": {},
   "outputs": [
    {
     "data": {
      "text/plain": [
       "array([6, 5, 0, 4, 5, 7], dtype=int64)"
      ]
     },
     "execution_count": 85,
     "metadata": {},
     "output_type": "execute_result"
    }
   ],
   "source": [
    "x11"
   ]
  },
  {
   "cell_type": "code",
   "execution_count": null,
   "id": "b3fb2adc",
   "metadata": {},
   "outputs": [],
   "source": [
    "x11[0]=999 #original array will be get modified"
   ]
  },
  {
   "cell_type": "code",
   "execution_count": 89,
   "id": "25c55713",
   "metadata": {},
   "outputs": [
    {
     "data": {
      "text/plain": [
       "array([  7,   5,   4,   0,   5, 999], dtype=int64)"
      ]
     },
     "execution_count": 89,
     "metadata": {},
     "output_type": "execute_result"
    }
   ],
   "source": [
    "x1"
   ]
  },
  {
   "cell_type": "code",
   "execution_count": null,
   "id": "c7dbe5e3",
   "metadata": {},
   "outputs": [],
   "source": []
  },
  {
   "cell_type": "code",
   "execution_count": 91,
   "id": "ca376193",
   "metadata": {},
   "outputs": [
    {
     "data": {
      "text/plain": [
       "array([999,   5,   0,   4,   5,   7], dtype=int64)"
      ]
     },
     "execution_count": 91,
     "metadata": {},
     "output_type": "execute_result"
    }
   ],
   "source": [
    "# creating copies\n",
    "x111=x1[::-1].copy()\n",
    "x111"
   ]
  },
  {
   "cell_type": "code",
   "execution_count": 92,
   "id": "7a3c2bb0",
   "metadata": {},
   "outputs": [
    {
     "data": {
      "text/plain": [
       "array([  999, -1111,     0,     4,     5,     7], dtype=int64)"
      ]
     },
     "execution_count": 92,
     "metadata": {},
     "output_type": "execute_result"
    }
   ],
   "source": [
    "x111[1]=-1111\n",
    "x111"
   ]
  },
  {
   "cell_type": "code",
   "execution_count": 94,
   "id": "17d4fbf9",
   "metadata": {},
   "outputs": [
    {
     "data": {
      "text/plain": [
       "array([  7,   5,   4,   0,   5, 999], dtype=int64)"
      ]
     },
     "execution_count": 94,
     "metadata": {},
     "output_type": "execute_result"
    }
   ],
   "source": [
    "x1 #original array will not be modified"
   ]
  },
  {
   "cell_type": "code",
   "execution_count": null,
   "id": "cb537e33",
   "metadata": {},
   "outputs": [],
   "source": []
  },
  {
   "cell_type": "code",
   "execution_count": 98,
   "id": "658f54b9",
   "metadata": {},
   "outputs": [
    {
     "data": {
      "text/plain": [
       "array([1, 2, 3, 4, 5, 6, 7, 8, 9])"
      ]
     },
     "execution_count": 98,
     "metadata": {},
     "output_type": "execute_result"
    }
   ],
   "source": [
    "# reshaping\n",
    "arr"
   ]
  },
  {
   "cell_type": "code",
   "execution_count": 100,
   "id": "d7a9989a",
   "metadata": {},
   "outputs": [],
   "source": [
    "arr=np.arange(1,10)"
   ]
  },
  {
   "cell_type": "code",
   "execution_count": null,
   "id": "f631071a",
   "metadata": {},
   "outputs": [],
   "source": []
  },
  {
   "cell_type": "code",
   "execution_count": 103,
   "id": "d31f37a5",
   "metadata": {},
   "outputs": [
    {
     "data": {
      "text/plain": [
       "array([[1, 2, 3],\n",
       "       [4, 5, 6],\n",
       "       [7, 8, 9]])"
      ]
     },
     "execution_count": 103,
     "metadata": {},
     "output_type": "execute_result"
    }
   ],
   "source": [
    "arr.reshape(3,3)"
   ]
  },
  {
   "cell_type": "code",
   "execution_count": 105,
   "id": "af5f3c2f",
   "metadata": {},
   "outputs": [
    {
     "data": {
      "text/plain": [
       "array([1, 2, 3, 4, 5, 6, 7, 8, 9])"
      ]
     },
     "execution_count": 105,
     "metadata": {},
     "output_type": "execute_result"
    }
   ],
   "source": [
    "arr"
   ]
  },
  {
   "cell_type": "code",
   "execution_count": 116,
   "id": "2b382e59",
   "metadata": {},
   "outputs": [
    {
     "data": {
      "text/plain": [
       "array([[1, 2, 3],\n",
       "       [4, 5, 6],\n",
       "       [7, 8, 9]])"
      ]
     },
     "execution_count": 116,
     "metadata": {},
     "output_type": "execute_result"
    }
   ],
   "source": [
    "arr.reshape(3,3)"
   ]
  },
  {
   "cell_type": "code",
   "execution_count": null,
   "id": "a7ed8f56",
   "metadata": {},
   "outputs": [],
   "source": []
  },
  {
   "cell_type": "code",
   "execution_count": 111,
   "id": "a1e77a04",
   "metadata": {},
   "outputs": [
    {
     "data": {
      "text/plain": [
       "array([[1],\n",
       "       [2],\n",
       "       [3],\n",
       "       [4],\n",
       "       [5],\n",
       "       [6],\n",
       "       [7],\n",
       "       [8],\n",
       "       [9]])"
      ]
     },
     "execution_count": 111,
     "metadata": {},
     "output_type": "execute_result"
    }
   ],
   "source": [
    "arr.reshape(9,1)"
   ]
  },
  {
   "cell_type": "code",
   "execution_count": 113,
   "id": "e2733354",
   "metadata": {},
   "outputs": [
    {
     "data": {
      "text/plain": [
       "array([[1],\n",
       "       [2],\n",
       "       [3],\n",
       "       [4],\n",
       "       [5],\n",
       "       [6],\n",
       "       [7],\n",
       "       [8],\n",
       "       [9]])"
      ]
     },
     "execution_count": 113,
     "metadata": {},
     "output_type": "execute_result"
    }
   ],
   "source": [
    "arr[:,np.newaxis]"
   ]
  },
  {
   "cell_type": "code",
   "execution_count": 115,
   "id": "77ecb3d6",
   "metadata": {},
   "outputs": [
    {
     "data": {
      "text/plain": [
       "array([[1, 2, 3, 4, 5, 6, 7, 8, 9]])"
      ]
     },
     "execution_count": 115,
     "metadata": {},
     "output_type": "execute_result"
    }
   ],
   "source": [
    "arr[np.newaxis,:]"
   ]
  },
  {
   "cell_type": "code",
   "execution_count": null,
   "id": "36d052e7",
   "metadata": {},
   "outputs": [],
   "source": []
  },
  {
   "cell_type": "code",
   "execution_count": 6,
   "id": "94c092ed",
   "metadata": {},
   "outputs": [
    {
     "name": "stdout",
     "output_type": "stream",
     "text": [
      "(1, 2, 3, 4, 5)\n",
      "<class 'tuple'>\n",
      "[6, 7, 8, 9]\n",
      "<class 'list'>\n",
      "[1 2 3 4 5 6 7 8 9]\n"
     ]
    }
   ],
   "source": [
    "x=(1,2,3,4,5)\n",
    "y=[6,7,8,9]\n",
    "\n",
    "print(x)\n",
    "print(type(x))\n",
    "print(y)\n",
    "print(type(y))\n",
    "\n",
    "z=np.concatenate([x,y])\n",
    "print(z)"
   ]
  },
  {
   "cell_type": "code",
   "execution_count": 10,
   "id": "f274a3db",
   "metadata": {},
   "outputs": [
    {
     "name": "stdout",
     "output_type": "stream",
     "text": [
      "[[1 2 3 4]\n",
      " [5 6 7 8]\n",
      " [1 2 3 4]\n",
      " [5 6 7 8]]\n"
     ]
    }
   ],
   "source": [
    "grid=[[1,2,3,4],[5,6,7,8]]\n",
    "print(np.concatenate([grid,grid]))"
   ]
  },
  {
   "cell_type": "code",
   "execution_count": 16,
   "id": "ed1abc11",
   "metadata": {},
   "outputs": [
    {
     "name": "stdout",
     "output_type": "stream",
     "text": [
      "[[1 2 3 4 1 2 3 4]\n",
      " [5 6 7 8 5 6 7 8]]\n"
     ]
    }
   ],
   "source": [
    "print(np.concatenate([grid,grid],axis=1))"
   ]
  },
  {
   "cell_type": "code",
   "execution_count": 24,
   "id": "5cacfa3c",
   "metadata": {},
   "outputs": [
    {
     "name": "stdout",
     "output_type": "stream",
     "text": [
      "[[0, 1, 2, 3, 4, 5, 6, 7], [1, 2, 3, 4, 5, 6, 7, 8], [2, 3, 4, 5, 6, 7, 8, 9]]\n",
      "[[ 0  1  2  3  4  5  6  7]\n",
      " [ 1  2  3  4  5  6  7  8]\n",
      " [ 2  3  4  5  6  7  8  9]\n",
      " [ 0 -1 -2 -3 -4 -5 -6 -7]\n",
      " [ 1  0 -1 -2 -3 -4 -5 -6]\n",
      " [ 2  1  0 -1 -2 -3 -4 -5]]\n",
      "[[ 0  1  2  3  4  5  6  7  0 -1 -2 -3 -4 -5 -6 -7]\n",
      " [ 1  2  3  4  5  6  7  8  1  0 -1 -2 -3 -4 -5 -6]\n",
      " [ 2  3  4  5  6  7  8  9  2  1  0 -1 -2 -3 -4 -5]]\n"
     ]
    }
   ],
   "source": [
    "arr=[[i+j for j in range(8)] for i in range(3)]\n",
    "arr2=[[i-j for j in range(8)] for i in range(3)]\n",
    "\n",
    "print(arr)\n",
    "print(np.vstack([arr,arr2]))\n",
    "print(np.hstack([arr,arr2]))\n",
    "\n"
   ]
  },
  {
   "cell_type": "code",
   "execution_count": null,
   "id": "80b1119a",
   "metadata": {},
   "outputs": [],
   "source": []
  },
  {
   "cell_type": "code",
   "execution_count": 28,
   "id": "9e9eb05c",
   "metadata": {},
   "outputs": [
    {
     "name": "stdout",
     "output_type": "stream",
     "text": [
      "[1 2] [3 4] [5 6 7 8 9]\n"
     ]
    }
   ],
   "source": [
    "x=[1,2,3,4,5,6,7,8,9]\n",
    "x1,x2,x3=np.split(x,[2,4])\n",
    "print(x1,x2,x3)"
   ]
  },
  {
   "cell_type": "code",
   "execution_count": 35,
   "id": "c83ff4c3",
   "metadata": {},
   "outputs": [
    {
     "name": "stdout",
     "output_type": "stream",
     "text": [
      "[[ 0  1  2  3]\n",
      " [ 4  5  6  7]\n",
      " [ 8  9 10 11]\n",
      " [12 13 14 15]]\n",
      "[[ 0  1]\n",
      " [ 4  5]\n",
      " [ 8  9]\n",
      " [12 13]] \n",
      "\n",
      " [[ 2  3]\n",
      " [ 6  7]\n",
      " [10 11]\n",
      " [14 15]]\n"
     ]
    }
   ],
   "source": [
    "y=np.arange(16).reshape([4,4])\n",
    "print(y)\n",
    "\n",
    "u,l=np.hsplit(y,[2])\n",
    "print(u,\"\\n\\n\",l)"
   ]
  },
  {
   "cell_type": "code",
   "execution_count": 36,
   "id": "1b21b5da",
   "metadata": {},
   "outputs": [
    {
     "name": "stdout",
     "output_type": "stream",
     "text": [
      "[[0 1 2 3]\n",
      " [4 5 6 7]] \n",
      "\n",
      " [[ 8  9 10 11]\n",
      " [12 13 14 15]]\n"
     ]
    }
   ],
   "source": [
    "u,l=np.vsplit(y,[2])\n",
    "print(u,\"\\n\\n\",l)"
   ]
  }
 ],
 "metadata": {
  "kernelspec": {
   "display_name": "Python 3",
   "language": "python",
   "name": "python3"
  },
  "language_info": {
   "codemirror_mode": {
    "name": "ipython",
    "version": 3
   },
   "file_extension": ".py",
   "mimetype": "text/x-python",
   "name": "python",
   "nbconvert_exporter": "python",
   "pygments_lexer": "ipython3",
   "version": "3.10.2"
  }
 },
 "nbformat": 4,
 "nbformat_minor": 5
}
