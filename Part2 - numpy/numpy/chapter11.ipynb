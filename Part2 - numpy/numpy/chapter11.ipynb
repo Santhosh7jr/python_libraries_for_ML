{
 "cells": [
  {
   "cell_type": "markdown",
   "id": "aefdb4e8",
   "metadata": {},
   "source": [
    "## Sorting Arrays"
   ]
  },
  {
   "cell_type": "code",
   "execution_count": 3,
   "id": "bf0ed327",
   "metadata": {
    "slideshow": {
     "slide_type": "slide"
    }
   },
   "outputs": [
    {
     "name": "stdout",
     "output_type": "stream",
     "text": [
      "[92, 50, 31, 28, 37, 73, 72, 22, 5, 91]\n"
     ]
    },
    {
     "data": {
      "text/plain": [
       "[5, 22, 28, 31, 37, 50, 72, 73, 91, 92]"
      ]
     },
     "execution_count": 3,
     "metadata": {},
     "output_type": "execute_result"
    }
   ],
   "source": [
    "import random\n",
    "arr=[random.randint(0,100) for _ in range(10)]\n",
    "print(arr)\n",
    "sorted(arr)"
   ]
  },
  {
   "cell_type": "code",
   "execution_count": 4,
   "id": "64a0059b",
   "metadata": {},
   "outputs": [
    {
     "data": {
      "text/plain": [
       "[5, 22, 28, 31, 37, 50, 72, 73, 91, 92]"
      ]
     },
     "execution_count": 4,
     "metadata": {},
     "output_type": "execute_result"
    }
   ],
   "source": [
    "arr.sort()\n",
    "arr"
   ]
  },
  {
   "cell_type": "code",
   "execution_count": 5,
   "id": "ce47e97d",
   "metadata": {},
   "outputs": [
    {
     "data": {
      "text/plain": [
       "['e', 'h', 'l', 'l', 'o']"
      ]
     },
     "execution_count": 5,
     "metadata": {},
     "output_type": "execute_result"
    }
   ],
   "source": [
    "sorted(\"hello\")"
   ]
  },
  {
   "cell_type": "code",
   "execution_count": 6,
   "id": "ec847b4d",
   "metadata": {},
   "outputs": [
    {
     "data": {
      "text/plain": [
       "array([1, 3, 4, 5, 7])"
      ]
     },
     "execution_count": 6,
     "metadata": {},
     "output_type": "execute_result"
    }
   ],
   "source": [
    "import numpy as np\n",
    "\n",
    "array=np.array([1,4,5,3,7])\n",
    "np.sort(array)"
   ]
  },
  {
   "cell_type": "code",
   "execution_count": 7,
   "id": "b336f67e",
   "metadata": {},
   "outputs": [
    {
     "data": {
      "text/plain": [
       "array([6, 0, 5, 4, 1, 2, 3], dtype=int64)"
      ]
     },
     "execution_count": 7,
     "metadata": {},
     "output_type": "execute_result"
    }
   ],
   "source": [
    "array2=np.array([2,5,6,7,4,3,1])\n",
    "np.argsort(array2)"
   ]
  },
  {
   "cell_type": "code",
   "execution_count": 8,
   "id": "c392f881",
   "metadata": {},
   "outputs": [
    {
     "data": {
      "text/plain": [
       "array([1, 2, 3, 4, 5, 6, 7])"
      ]
     },
     "execution_count": 8,
     "metadata": {},
     "output_type": "execute_result"
    }
   ],
   "source": [
    "array2[np.argsort(array2)]"
   ]
  },
  {
   "cell_type": "code",
   "execution_count": 37,
   "id": "637fb2ad",
   "metadata": {},
   "outputs": [
    {
     "data": {
      "text/plain": [
       "array([[7, 9, 2, 2, 7],\n",
       "       [8, 5, 1, 8, 5],\n",
       "       [1, 1, 4, 6, 4],\n",
       "       [8, 0, 4, 5, 9]], dtype=int64)"
      ]
     },
     "execution_count": 37,
     "metadata": {},
     "output_type": "execute_result"
    }
   ],
   "source": [
    "randArr=np.random.default_rng(seed=10)\n",
    "randArr2=randArr.integers(0,10,(4,5))\n",
    "randArr2"
   ]
  },
  {
   "cell_type": "code",
   "execution_count": 10,
   "id": "d6ce272f",
   "metadata": {},
   "outputs": [
    {
     "data": {
      "text/plain": [
       "array([[2, 0, 4, 0, 2],\n",
       "       [5, 2, 6, 6, 2],\n",
       "       [5, 6, 7, 8, 8],\n",
       "       [7, 7, 9, 8, 9]], dtype=int64)"
      ]
     },
     "execution_count": 10,
     "metadata": {},
     "output_type": "execute_result"
    }
   ],
   "source": [
    "np.sort(randArr2,0)"
   ]
  },
  {
   "cell_type": "code",
   "execution_count": 11,
   "id": "5abe9f11",
   "metadata": {},
   "outputs": [
    {
     "data": {
      "text/plain": [
       "array([[7, 7, 7, 8, 8],\n",
       "       [2, 2, 5, 8, 9],\n",
       "       [0, 2, 6, 6, 9],\n",
       "       [0, 2, 4, 5, 6]], dtype=int64)"
      ]
     },
     "execution_count": 11,
     "metadata": {},
     "output_type": "execute_result"
    }
   ],
   "source": [
    "np.sort(randArr2,1)"
   ]
  },
  {
   "cell_type": "code",
   "execution_count": 12,
   "id": "3a10451a",
   "metadata": {},
   "outputs": [
    {
     "data": {
      "text/plain": [
       "array([[7, 7, 7, 8, 8],\n",
       "       [2, 2, 5, 8, 9],\n",
       "       [0, 2, 6, 6, 9],\n",
       "       [0, 2, 4, 5, 6]], dtype=int64)"
      ]
     },
     "execution_count": 12,
     "metadata": {},
     "output_type": "execute_result"
    }
   ],
   "source": [
    "np.sort(randArr2)"
   ]
  },
  {
   "cell_type": "code",
   "execution_count": 65,
   "id": "21a2230a",
   "metadata": {},
   "outputs": [
    {
     "data": {
      "text/plain": [
       "array([[7, 0, 8, 6, 6, 2],\n",
       "       [7, 4, 7, 7, 5, 5],\n",
       "       [4, 0, 6, 0, 8, 3],\n",
       "       [6, 8, 8, 2, 3, 4]], dtype=int64)"
      ]
     },
     "execution_count": 65,
     "metadata": {},
     "output_type": "execute_result"
    }
   ],
   "source": [
    "lst=randArr.integers(0,10,(4,6))\n",
    "lst"
   ]
  },
  {
   "cell_type": "code",
   "execution_count": 66,
   "id": "e4083ff6",
   "metadata": {},
   "outputs": [
    {
     "data": {
      "text/plain": [
       "array([[0, 2, 6, 6, 7, 8],\n",
       "       [5, 5, 4, 7, 7, 7],\n",
       "       [0, 3, 0, 4, 8, 6],\n",
       "       [2, 4, 3, 6, 8, 8]], dtype=int64)"
      ]
     },
     "execution_count": 66,
     "metadata": {},
     "output_type": "execute_result"
    }
   ],
   "source": [
    "np.partition(lst,3,1)"
   ]
  },
  {
   "cell_type": "code",
   "execution_count": 78,
   "id": "c472d03f",
   "metadata": {},
   "outputs": [
    {
     "name": "stdout",
     "output_type": "stream",
     "text": [
      "[[0.24387851 0.60909837]\n",
      " [0.95701075 0.34488861]\n",
      " [0.14009266 0.8836421 ]\n",
      " [0.48760857 0.59041843]\n",
      " [0.7357258  0.08673739]\n",
      " [0.22608279 0.71864611]\n",
      " [0.83812164 0.36259294]\n",
      " [0.50873881 0.95336618]\n",
      " [0.64322034 0.98558556]\n",
      " [0.74853331 0.64825847]]\n"
     ]
    },
    {
     "data": {
      "text/plain": [
       "array([0.60909837, 0.34488861, 0.8836421 , 0.59041843, 0.08673739,\n",
       "       0.71864611, 0.36259294, 0.95336618, 0.98558556, 0.64825847])"
      ]
     },
     "execution_count": 78,
     "metadata": {},
     "output_type": "execute_result"
    }
   ],
   "source": [
    "a=randArr.random((10,2))\n",
    "print(a)\n",
    "a[:,1]"
   ]
  },
  {
   "cell_type": "code",
   "execution_count": null,
   "id": "89fb3ef5",
   "metadata": {},
   "outputs": [],
   "source": []
  },
  {
   "cell_type": "code",
   "execution_count": null,
   "id": "633f6fb7",
   "metadata": {},
   "outputs": [],
   "source": []
  }
 ],
 "metadata": {
  "kernelspec": {
   "display_name": "Python 3",
   "language": "python",
   "name": "python3"
  },
  "language_info": {
   "codemirror_mode": {
    "name": "ipython",
    "version": 3
   },
   "file_extension": ".py",
   "mimetype": "text/x-python",
   "name": "python",
   "nbconvert_exporter": "python",
   "pygments_lexer": "ipython3",
   "version": "3.10.2"
  }
 },
 "nbformat": 4,
 "nbformat_minor": 5
}
