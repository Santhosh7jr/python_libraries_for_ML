{
 "cells": [
  {
   "cell_type": "markdown",
   "id": "9a22332e",
   "metadata": {},
   "source": [
    "## Fancy Indexing"
   ]
  },
  {
   "cell_type": "code",
   "execution_count": 3,
   "id": "4f34e97a",
   "metadata": {},
   "outputs": [
    {
     "name": "stdout",
     "output_type": "stream",
     "text": [
      "[90 40  9 30 80 67 39 15 33 79]\n"
     ]
    }
   ],
   "source": [
    "import numpy as np\n",
    "\n",
    "rng=np.random.default_rng(seed=1701)\n",
    "\n",
    "x=rng.integers(100,size=10)\n",
    "print(x)"
   ]
  },
  {
   "cell_type": "code",
   "execution_count": 4,
   "id": "583b5de5",
   "metadata": {},
   "outputs": [
    {
     "data": {
      "text/plain": [
       "[30, 15, 79]"
      ]
     },
     "execution_count": 4,
     "metadata": {},
     "output_type": "execute_result"
    }
   ],
   "source": [
    "[x[3],x[7],x[9]]"
   ]
  },
  {
   "cell_type": "code",
   "execution_count": 3,
   "id": "af398794",
   "metadata": {},
   "outputs": [
    {
     "data": {
      "text/plain": [
       "array([30, 67, 15], dtype=int64)"
      ]
     },
     "execution_count": 3,
     "metadata": {},
     "output_type": "execute_result"
    }
   ],
   "source": [
    "idx=[3,5,7]\n",
    "x[idx]"
   ]
  },
  {
   "cell_type": "code",
   "execution_count": 4,
   "id": "cd3e1b29",
   "metadata": {},
   "outputs": [
    {
     "data": {
      "text/plain": [
       "array([[30, 15],\n",
       "       [80, 67]], dtype=int64)"
      ]
     },
     "execution_count": 4,
     "metadata": {},
     "output_type": "execute_result"
    }
   ],
   "source": [
    "idx=np.array([[3,7],[4,5]])\n",
    "x[idx]"
   ]
  },
  {
   "cell_type": "code",
   "execution_count": 5,
   "id": "7fd59d37",
   "metadata": {},
   "outputs": [
    {
     "data": {
      "text/plain": [
       "array([[ 0,  1,  2,  3],\n",
       "       [ 4,  5,  6,  7],\n",
       "       [ 8,  9, 10, 11]])"
      ]
     },
     "execution_count": 5,
     "metadata": {},
     "output_type": "execute_result"
    }
   ],
   "source": [
    "x=np.arange(12).reshape((3,4))\n",
    "x"
   ]
  },
  {
   "cell_type": "code",
   "execution_count": 6,
   "id": "4acecc8c",
   "metadata": {},
   "outputs": [
    {
     "data": {
      "text/plain": [
       "array([ 2,  5, 11])"
      ]
     },
     "execution_count": 6,
     "metadata": {},
     "output_type": "execute_result"
    }
   ],
   "source": [
    "row=np.array([0,1,2])\n",
    "col=np.array([2,1,3])\n",
    "x[row,col]"
   ]
  },
  {
   "cell_type": "code",
   "execution_count": 8,
   "id": "9645896f",
   "metadata": {},
   "outputs": [
    {
     "data": {
      "text/plain": [
       "array([[ 2,  1,  3],\n",
       "       [ 6,  5,  7],\n",
       "       [10,  9, 11]])"
      ]
     },
     "execution_count": 8,
     "metadata": {},
     "output_type": "execute_result"
    }
   ],
   "source": [
    "x[row[:,np.newaxis],col]"
   ]
  },
  {
   "cell_type": "code",
   "execution_count": 9,
   "id": "af1a00b4",
   "metadata": {},
   "outputs": [
    {
     "data": {
      "text/plain": [
       "array([[0, 0, 0],\n",
       "       [2, 1, 3],\n",
       "       [4, 2, 6]])"
      ]
     },
     "execution_count": 9,
     "metadata": {},
     "output_type": "execute_result"
    }
   ],
   "source": [
    "row[:,np.newaxis]*col"
   ]
  },
  {
   "cell_type": "code",
   "execution_count": null,
   "id": "71aac552",
   "metadata": {},
   "outputs": [],
   "source": []
  },
  {
   "cell_type": "code",
   "execution_count": 10,
   "id": "8cc9a7dd",
   "metadata": {},
   "outputs": [
    {
     "data": {
      "text/plain": [
       "array([[ 0,  1,  2,  3],\n",
       "       [ 4,  5,  6,  7],\n",
       "       [ 8,  9, 10, 11]])"
      ]
     },
     "execution_count": 10,
     "metadata": {},
     "output_type": "execute_result"
    }
   ],
   "source": [
    "x"
   ]
  },
  {
   "cell_type": "code",
   "execution_count": 11,
   "id": "807e5952",
   "metadata": {},
   "outputs": [
    {
     "data": {
      "text/plain": [
       "array([10,  8,  9])"
      ]
     },
     "execution_count": 11,
     "metadata": {},
     "output_type": "execute_result"
    }
   ],
   "source": [
    "x[2,[2,0,1]]"
   ]
  },
  {
   "cell_type": "code",
   "execution_count": 12,
   "id": "6aa04bb8",
   "metadata": {},
   "outputs": [
    {
     "data": {
      "text/plain": [
       "array([[ 6,  4,  5],\n",
       "       [10,  8,  9]])"
      ]
     },
     "execution_count": 12,
     "metadata": {},
     "output_type": "execute_result"
    }
   ],
   "source": [
    "x[1:,[2,0,1]]"
   ]
  },
  {
   "cell_type": "code",
   "execution_count": 16,
   "id": "f5b08cfd",
   "metadata": {},
   "outputs": [
    {
     "name": "stdout",
     "output_type": "stream",
     "text": [
      "[ True  True False  True]\n",
      "[0 1 2]\n",
      "[[ 0  1  2  3]\n",
      " [ 4  5  6  7]\n",
      " [ 8  9 10 11]]\n",
      "[[ 0  1  3]\n",
      " [ 4  5  7]\n",
      " [ 8  9 11]]\n"
     ]
    }
   ],
   "source": [
    "mask=np.array([True,True,False,True])\n",
    "print(mask)\n",
    "print(row)\n",
    "print(x)\n",
    "print(x[row[:,np.newaxis],mask])"
   ]
  },
  {
   "cell_type": "code",
   "execution_count": 17,
   "id": "d638d394",
   "metadata": {},
   "outputs": [
    {
     "data": {
      "text/plain": [
       "array([[ 9.23761718e-01,  3.86247383e+00],\n",
       "       [ 6.61751529e-01,  2.92566223e+00],\n",
       "       [ 7.30981058e-01,  2.44134086e+00],\n",
       "       [-3.29786797e-01, -1.16688738e-01],\n",
       "       [-3.08887585e-01,  8.74389601e-01],\n",
       "       [ 8.60135824e-01,  1.64977873e+00],\n",
       "       [ 1.12535005e+00,  3.07970690e+00],\n",
       "       [-1.15071385e+00, -1.02441057e+00],\n",
       "       [ 8.52757448e-02, -9.07980378e-01],\n",
       "       [ 7.24091502e-01,  2.16337705e+00],\n",
       "       [-7.55750651e-01, -3.51313567e-01],\n",
       "       [-1.13766512e+00, -2.80758238e+00],\n",
       "       [ 1.51379786e-01, -1.23549790e+00],\n",
       "       [-2.19302975e+00, -5.36976879e+00],\n",
       "       [ 6.70249139e-01,  3.71399758e+00],\n",
       "       [ 1.45648064e+00,  2.74167311e+00],\n",
       "       [-8.50652055e-01, -1.54100459e+00],\n",
       "       [ 2.05554772e-01,  7.80629399e-01],\n",
       "       [-1.62415980e+00, -3.90121516e+00],\n",
       "       [ 8.04554777e-01,  3.42702891e+00],\n",
       "       [-8.31136835e-01, -1.42428390e+00],\n",
       "       [-1.52519971e+00, -3.37676226e+00],\n",
       "       [-3.75641948e-01, -1.31595855e+00],\n",
       "       [ 7.00500528e-01,  2.73668582e+00],\n",
       "       [ 8.20900913e-01,  5.90557023e-01],\n",
       "       [-3.41910865e-01, -3.74276386e-01],\n",
       "       [ 5.91064558e-01,  2.24773885e+00],\n",
       "       [ 2.37187534e+00,  4.46843628e+00],\n",
       "       [ 1.11908814e-01, -9.40897295e-01],\n",
       "       [ 7.91465930e-01,  2.64057061e+00],\n",
       "       [-1.42326788e+00, -2.72306289e+00],\n",
       "       [-5.91795754e-01,  1.91761015e+00],\n",
       "       [-7.10588039e-01, -1.05392878e+00],\n",
       "       [-1.00316680e-01,  8.65958304e-02],\n",
       "       [-9.50621459e-01, -8.69559492e-01],\n",
       "       [ 5.50992347e-01, -5.30277511e-01],\n",
       "       [ 7.46830441e-01,  2.26487629e+00],\n",
       "       [ 3.89223439e-02, -1.43137961e+00],\n",
       "       [ 4.92901753e-01,  7.96397066e-01],\n",
       "       [-8.55749544e-01, -9.99618236e-01],\n",
       "       [ 7.19488278e-02,  7.02146349e-01],\n",
       "       [-1.99932580e+00, -2.27811191e+00],\n",
       "       [ 1.86517951e-01,  1.23596368e+00],\n",
       "       [-8.09056584e-01, -1.81703893e+00],\n",
       "       [ 8.29265444e-01,  2.18345845e+00],\n",
       "       [ 5.35190376e-01,  4.47966342e-01],\n",
       "       [-3.27562105e-01, -1.77482480e+00],\n",
       "       [-2.69738048e+00, -5.62348677e+00],\n",
       "       [ 1.43891059e+00,  2.42258911e+00],\n",
       "       [ 4.70562172e-01,  2.52786853e-01],\n",
       "       [-5.34031981e-01, -5.85417619e-01],\n",
       "       [-1.63955400e+00, -4.54577650e+00],\n",
       "       [ 8.69157425e-01,  1.05136337e+00],\n",
       "       [-2.48588812e+00, -5.42296100e+00],\n",
       "       [ 7.94899718e-01,  2.13159391e+00],\n",
       "       [-4.36407775e-01,  9.33100970e-01],\n",
       "       [ 2.79594472e+00,  6.33408633e+00],\n",
       "       [-1.62721133e+00, -3.29227540e+00],\n",
       "       [-1.59944090e+00, -3.74038295e+00],\n",
       "       [-2.59751447e+00, -3.47995836e+00],\n",
       "       [-1.41393471e+00, -3.66357845e+00],\n",
       "       [ 2.32369408e-01,  8.80859656e-01],\n",
       "       [ 3.40511819e-02,  7.32541387e-01],\n",
       "       [ 2.23519164e+00,  4.33266160e+00],\n",
       "       [-3.31214432e-01, -5.39959415e-01],\n",
       "       [ 5.33618503e-01,  1.11631280e+00],\n",
       "       [-1.32861435e-01,  3.02343489e-01],\n",
       "       [-2.90496991e-01,  8.08089066e-01],\n",
       "       [ 8.55570565e-01, -1.29022391e-01],\n",
       "       [ 6.88371652e-01,  1.71544376e+00],\n",
       "       [-7.19572387e-01, -2.20706627e+00],\n",
       "       [ 3.41534033e-01,  4.35054321e-01],\n",
       "       [ 8.59854946e-01,  2.03652405e+00],\n",
       "       [ 8.17369954e-01,  1.94401318e+00],\n",
       "       [ 1.63466107e-01, -5.67376304e-01],\n",
       "       [ 3.27979510e-01, -9.04223047e-01],\n",
       "       [ 1.09101199e+00,  1.77260811e+00],\n",
       "       [-7.93948859e-01, -3.81180928e+00],\n",
       "       [-1.26787248e+00, -1.74778269e+00],\n",
       "       [-1.37619004e+00, -1.55017467e+00],\n",
       "       [ 2.81388613e+00,  6.03151912e+00],\n",
       "       [ 9.05995326e-02,  2.56736581e+00],\n",
       "       [ 8.90561967e-01,  2.02812028e-01],\n",
       "       [ 2.05045627e+00,  4.39542104e+00],\n",
       "       [ 1.65070370e+00,  4.15011809e+00],\n",
       "       [-2.57288282e-03, -3.39005109e-01],\n",
       "       [-9.32267600e-01, -3.39969892e-01],\n",
       "       [-4.97766658e-01, -1.17936925e+00],\n",
       "       [-2.83490787e-01,  1.33429965e+00],\n",
       "       [ 3.58560517e-01, -5.61047342e-01],\n",
       "       [ 8.03032647e-01,  1.20986161e+00],\n",
       "       [-4.26502973e-01, -2.22030027e-01],\n",
       "       [ 3.48464179e-01,  1.95705366e+00],\n",
       "       [ 4.66059518e-01, -6.79589356e-01],\n",
       "       [-1.23294063e-01, -4.23105904e-01],\n",
       "       [-1.23663760e+00, -3.70722817e+00],\n",
       "       [-2.59588094e+00, -4.33224979e+00],\n",
       "       [-5.23767992e-02, -5.80675479e-01],\n",
       "       [ 1.31411717e+00,  2.22815311e+00],\n",
       "       [ 1.08304664e-02, -1.24518261e-01]])"
      ]
     },
     "execution_count": 17,
     "metadata": {},
     "output_type": "execute_result"
    }
   ],
   "source": [
    "mean=[0,0]\n",
    "cov=[[1,2],[2,5]]\n",
    "\n",
    "x=rng.multivariate_normal(mean,cov,100)\n",
    "x"
   ]
  },
  {
   "cell_type": "code",
   "execution_count": null,
   "id": "cd6228bc",
   "metadata": {},
   "outputs": [
    {
     "name": "stdout",
     "output_type": "stream",
     "text": [
      "[[ 9.23761718e-01  3.86247383e+00]\n",
      " [ 6.61751529e-01  2.92566223e+00]\n",
      " [ 7.30981058e-01  2.44134086e+00]\n",
      " [-3.29786797e-01 -1.16688738e-01]\n",
      " [-3.08887585e-01  8.74389601e-01]\n",
      " [ 8.60135824e-01  1.64977873e+00]\n",
      " [ 1.12535005e+00  3.07970690e+00]\n",
      " [-1.15071385e+00 -1.02441057e+00]\n",
      " [ 8.52757448e-02 -9.07980378e-01]\n",
      " [ 7.24091502e-01  2.16337705e+00]\n",
      " [-7.55750651e-01 -3.51313567e-01]\n",
      " [-1.13766512e+00 -2.80758238e+00]\n",
      " [ 1.51379786e-01 -1.23549790e+00]\n",
      " [-2.19302975e+00 -5.36976879e+00]\n",
      " [ 6.70249139e-01  3.71399758e+00]\n",
      " [ 1.45648064e+00  2.74167311e+00]\n",
      " [-8.50652055e-01 -1.54100459e+00]\n",
      " [ 2.05554772e-01  7.80629399e-01]\n",
      " [-1.62415980e+00 -3.90121516e+00]\n",
      " [ 8.04554777e-01  3.42702891e+00]\n",
      " [-8.31136835e-01 -1.42428390e+00]\n",
      " [-1.52519971e+00 -3.37676226e+00]\n",
      " [-3.75641948e-01 -1.31595855e+00]\n",
      " [ 7.00500528e-01  2.73668582e+00]\n",
      " [ 8.20900913e-01  5.90557023e-01]\n",
      " [-3.41910865e-01 -3.74276386e-01]\n",
      " [ 5.91064558e-01  2.24773885e+00]\n",
      " [ 2.37187534e+00  4.46843628e+00]\n",
      " [ 1.11908814e-01 -9.40897295e-01]\n",
      " [ 7.91465930e-01  2.64057061e+00]\n",
      " [-1.42326788e+00 -2.72306289e+00]\n",
      " [-5.91795754e-01  1.91761015e+00]\n",
      " [-7.10588039e-01 -1.05392878e+00]\n",
      " [-1.00316680e-01  8.65958304e-02]\n",
      " [-9.50621459e-01 -8.69559492e-01]\n",
      " [ 5.50992347e-01 -5.30277511e-01]\n",
      " [ 7.46830441e-01  2.26487629e+00]\n",
      " [ 3.89223439e-02 -1.43137961e+00]\n",
      " [ 4.92901753e-01  7.96397066e-01]\n",
      " [-8.55749544e-01 -9.99618236e-01]\n",
      " [ 7.19488278e-02  7.02146349e-01]\n",
      " [-1.99932580e+00 -2.27811191e+00]\n",
      " [ 1.86517951e-01  1.23596368e+00]\n",
      " [-8.09056584e-01 -1.81703893e+00]\n",
      " [ 8.29265444e-01  2.18345845e+00]\n",
      " [ 5.35190376e-01  4.47966342e-01]\n",
      " [-3.27562105e-01 -1.77482480e+00]\n",
      " [-2.69738048e+00 -5.62348677e+00]\n",
      " [ 1.43891059e+00  2.42258911e+00]\n",
      " [ 4.70562172e-01  2.52786853e-01]\n",
      " [-5.34031981e-01 -5.85417619e-01]\n",
      " [-1.63955400e+00 -4.54577650e+00]\n",
      " [ 8.69157425e-01  1.05136337e+00]\n",
      " [-2.48588812e+00 -5.42296100e+00]\n",
      " [ 7.94899718e-01  2.13159391e+00]\n",
      " [-4.36407775e-01  9.33100970e-01]\n",
      " [ 2.79594472e+00  6.33408633e+00]\n",
      " [-1.62721133e+00 -3.29227540e+00]\n",
      " [-1.59944090e+00 -3.74038295e+00]\n",
      " [-2.59751447e+00 -3.47995836e+00]\n",
      " [-1.41393471e+00 -3.66357845e+00]\n",
      " [ 2.32369408e-01  8.80859656e-01]\n",
      " [ 3.40511819e-02  7.32541387e-01]\n",
      " [ 2.23519164e+00  4.33266160e+00]\n",
      " [-3.31214432e-01 -5.39959415e-01]\n",
      " [ 5.33618503e-01  1.11631280e+00]\n",
      " [-1.32861435e-01  3.02343489e-01]\n",
      " [-2.90496991e-01  8.08089066e-01]\n",
      " [ 8.55570565e-01 -1.29022391e-01]\n",
      " [ 6.88371652e-01  1.71544376e+00]\n",
      " [-7.19572387e-01 -2.20706627e+00]\n",
      " [ 3.41534033e-01  4.35054321e-01]\n",
      " [ 8.59854946e-01  2.03652405e+00]\n",
      " [ 8.17369954e-01  1.94401318e+00]\n",
      " [ 1.63466107e-01 -5.67376304e-01]\n",
      " [ 3.27979510e-01 -9.04223047e-01]\n",
      " [ 1.09101199e+00  1.77260811e+00]\n",
      " [-7.93948859e-01 -3.81180928e+00]\n",
      " [-1.26787248e+00 -1.74778269e+00]\n",
      " [-1.37619004e+00 -1.55017467e+00]\n",
      " [ 2.81388613e+00  6.03151912e+00]\n",
      " [ 9.05995326e-02  2.56736581e+00]\n",
      " [ 8.90561967e-01  2.02812028e-01]\n",
      " [ 2.05045627e+00  4.39542104e+00]\n",
      " [ 1.65070370e+00  4.15011809e+00]\n",
      " [-2.57288282e-03 -3.39005109e-01]\n",
      " [-9.32267600e-01 -3.39969892e-01]\n",
      " [-4.97766658e-01 -1.17936925e+00]\n",
      " [-2.83490787e-01  1.33429965e+00]\n",
      " [ 3.58560517e-01 -5.61047342e-01]\n",
      " [ 8.03032647e-01  1.20986161e+00]\n",
      " [-4.26502973e-01 -2.22030027e-01]\n",
      " [ 3.48464179e-01  1.95705366e+00]\n",
      " [ 4.66059518e-01 -6.79589356e-01]\n",
      " [-1.23294063e-01 -4.23105904e-01]\n",
      " [-1.23663760e+00 -3.70722817e+00]\n",
      " [-2.59588094e+00 -4.33224979e+00]\n",
      " [-5.23767992e-02 -5.80675479e-01]\n",
      " [ 1.31411717e+00  2.22815311e+00]\n",
      " [ 1.08304664e-02 -1.24518261e-01]]\n"
     ]
    },
    {
     "name": "stderr",
     "output_type": "stream",
     "text": [
      "C:\\Users\\ASUS\\AppData\\Local\\Temp\\ipykernel_12072\\2145086645.py:4: MatplotlibDeprecationWarning: The seaborn styles shipped by Matplotlib are deprecated since 3.6, as they no longer correspond to the styles shipped by seaborn. However, they will remain available as 'seaborn-v0_8-<style>'. Alternatively, directly use the seaborn API instead.\n",
      "  plt.style.use('seaborn-whitegrid')\n"
     ]
    },
    {
     "data": {
      "image/png": "[encoded data removed]",
      "text/plain": [
       "<Figure size 640x480 with 1 Axes>"
      ]
     },
     "metadata": {},
     "output_type": "display_data"
    }
   ],
   "source": [
    "%matplotlib inline\n",
    "\n",
    "import matplotlib.pyplot as plt\n",
    "plt.style.use('seaborn-whitegrid')\n",
    "plt.scatter(x[:,0],x[:,1])\n",
    "print(x[:,0])\n",
    "print(x)"
   ]
  },
  {
   "cell_type": "code",
   "execution_count": 25,
   "id": "b14df525",
   "metadata": {},
   "outputs": [
    {
     "data": {
      "text/plain": [
       "array([60, 40, 82, 84, 56, 70, 63, 11, 65, 46, 33, 78, 98, 37, 85, 93, 38,\n",
       "       94, 42, 80])"
      ]
     },
     "execution_count": 25,
     "metadata": {},
     "output_type": "execute_result"
    }
   ],
   "source": [
    "indices=np.random.choice(x.shape[0],20,replace=False)\n",
    "indices"
   ]
  },
  {
   "cell_type": "code",
   "execution_count": 30,
   "id": "1a09a067",
   "metadata": {},
   "outputs": [
    {
     "data": {
      "text/plain": [
       "(20, 2)"
      ]
     },
     "execution_count": 30,
     "metadata": {},
     "output_type": "execute_result"
    }
   ],
   "source": [
    "selection=x[indices]\n",
    "selection.shape"
   ]
  },
  {
   "cell_type": "code",
   "execution_count": 32,
   "id": "94915bde",
   "metadata": {},
   "outputs": [
    {
     "data": {
      "text/plain": [
       "array([[-1.41393471e+00, -3.66357845e+00],\n",
       "       [ 7.19488278e-02,  7.02146349e-01],\n",
       "       [ 8.90561967e-01,  2.02812028e-01],\n",
       "       [ 1.65070370e+00,  4.15011809e+00],\n",
       "       [ 2.79594472e+00,  6.33408633e+00],\n",
       "       [-7.19572387e-01, -2.20706627e+00],\n",
       "       [ 2.23519164e+00,  4.33266160e+00],\n",
       "       [-1.13766512e+00, -2.80758238e+00],\n",
       "       [ 5.33618503e-01,  1.11631280e+00],\n",
       "       [-3.27562105e-01, -1.77482480e+00],\n",
       "       [-1.00316680e-01,  8.65958304e-02],\n",
       "       [-1.26787248e+00, -1.74778269e+00],\n",
       "       [ 1.31411717e+00,  2.22815311e+00],\n",
       "       [ 3.89223439e-02, -1.43137961e+00],\n",
       "       [-2.57288282e-03, -3.39005109e-01],\n",
       "       [ 4.66059518e-01, -6.79589356e-01],\n",
       "       [ 4.92901753e-01,  7.96397066e-01],\n",
       "       [-1.23294063e-01, -4.23105904e-01],\n",
       "       [ 1.86517951e-01,  1.23596368e+00],\n",
       "       [ 2.81388613e+00,  6.03151912e+00]])"
      ]
     },
     "execution_count": 32,
     "metadata": {},
     "output_type": "execute_result"
    }
   ],
   "source": [
    "selection"
   ]
  },
  {
   "cell_type": "code",
   "execution_count": null,
   "id": "342631bb",
   "metadata": {},
   "outputs": [],
   "source": []
  },
  {
   "cell_type": "code",
   "execution_count": 40,
   "id": "73d046d6",
   "metadata": {},
   "outputs": [
    {
     "name": "stdout",
     "output_type": "stream",
     "text": [
      "[0 1 2 3 4 5 6 7 8 9]\n",
      "[ 0 99 99  3 99 99  6  7  8  9]\n"
     ]
    }
   ],
   "source": [
    "x=np.arange(10)\n",
    "i=np.array([2,1,4,5])\n",
    "print(x)\n",
    "x[i]=99\n",
    "print(x)"
   ]
  },
  {
   "cell_type": "code",
   "execution_count": 34,
   "id": "c2371b31",
   "metadata": {},
   "outputs": [],
   "source": [
    "x[i]=-10"
   ]
  },
  {
   "cell_type": "code",
   "execution_count": 35,
   "id": "13c7d11b",
   "metadata": {},
   "outputs": [
    {
     "data": {
      "text/plain": [
       "array([  0, -10, -10,   3, -10, -10,   6,   7,   8,   9])"
      ]
     },
     "execution_count": 35,
     "metadata": {},
     "output_type": "execute_result"
    }
   ],
   "source": [
    "x"
   ]
  },
  {
   "cell_type": "code",
   "execution_count": 41,
   "id": "753ff1ac",
   "metadata": {},
   "outputs": [
    {
     "name": "stdout",
     "output_type": "stream",
     "text": [
      "[0. 0. 0. 0. 0. 0. 0. 0. 0. 0.]\n"
     ]
    },
    {
     "data": {
      "text/plain": [
       "array([6., 0., 0., 0., 0., 0., 0., 0., 0., 0.])"
      ]
     },
     "execution_count": 41,
     "metadata": {},
     "output_type": "execute_result"
    }
   ],
   "source": [
    "x=np.zeros(10)\n",
    "print(x)\n",
    "x[[0,0]]=[4,6]\n",
    "x"
   ]
  },
  {
   "cell_type": "code",
   "execution_count": 38,
   "id": "5884c923",
   "metadata": {},
   "outputs": [
    {
     "data": {
      "text/plain": [
       "array([6., 0., 1., 1., 1., 1., 0., 0., 0., 0.])"
      ]
     },
     "execution_count": 38,
     "metadata": {},
     "output_type": "execute_result"
    }
   ],
   "source": [
    "x[[2,3,3,4,4,4,5]]+=1\n",
    "x\n"
   ]
  },
  {
   "cell_type": "code",
   "execution_count": 43,
   "id": "edc375c4",
   "metadata": {},
   "outputs": [
    {
     "data": {
      "text/plain": [
       "array([6., 1., 3., 3., 3., 2., 0., 0., 0., 0.])"
      ]
     },
     "execution_count": 43,
     "metadata": {},
     "output_type": "execute_result"
    }
   ],
   "source": [
    "np.add.at(x,[2,3,4,3,2,3,4,5],1)\n",
    "x"
   ]
  },
  {
   "cell_type": "code",
   "execution_count": null,
   "id": "0e1c0f05",
   "metadata": {},
   "outputs": [],
   "source": []
  },
  {
   "cell_type": "code",
   "execution_count": 47,
   "id": "4bcae9c4",
   "metadata": {},
   "outputs": [
    {
     "data": {
      "text/plain": [
       "[<matplotlib.lines.Line2D at 0x238ffcf9c90>]"
      ]
     },
     "execution_count": 47,
     "metadata": {},
     "output_type": "execute_result"
    },
    {
     "data": {
      "image/png": "[encoded data removed]",
      "text/plain": [
       "<Figure size 640x480 with 1 Axes>"
      ]
     },
     "metadata": {},
     "output_type": "display_data"
    }
   ],
   "source": [
    "rng=np.random.default_rng(seed=1701)\n",
    "x=rng.normal(size=100)\n",
    "\n",
    "bins=np.linspace(-5,5,20)\n",
    "counts=np.zeros_like(bins)\n",
    "\n",
    "i=np.searchsorted(bins,x)\n",
    "\n",
    "np.add.at(counts,i,1)\n",
    "\n",
    "plt.plot(bins,counts,drawstyle='steps')"
   ]
  },
  {
   "cell_type": "code",
   "execution_count": null,
   "id": "1886a6fa",
   "metadata": {},
   "outputs": [],
   "source": []
  }
 ],
 "metadata": {
  "kernelspec": {
   "display_name": "Python 3",
   "language": "python",
   "name": "python3"
  },
  "language_info": {
   "codemirror_mode": {
    "name": "ipython",
    "version": 3
   },
   "file_extension": ".py",
   "mimetype": "text/x-python",
   "name": "python",
   "nbconvert_exporter": "python",
   "pygments_lexer": "ipython3",
   "version": "3.10.2"
  }
 },
 "nbformat": 4,
 "nbformat_minor": 5
}
